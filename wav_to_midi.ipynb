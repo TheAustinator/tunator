{
 "cells": [
  {
   "cell_type": "code",
   "execution_count": 1,
   "metadata": {},
   "outputs": [],
   "source": [
    "import sys\n",
    "from aubio import source, notes\n",
    "from mido import Message, MetaMessage, MidiFile, MidiTrack, second2tick, bpm2tempo"
   ]
  },
  {
   "cell_type": "code",
   "execution_count": 4,
   "metadata": {},
   "outputs": [
    {
     "ename": "RuntimeError",
     "evalue": "AUBIO ERROR: source_wavread: Failed opening output.wav (not encoded with PCM)",
     "output_type": "error",
     "traceback": [
      "\u001b[0;31m---------------------------------------------------------------------------\u001b[0m",
      "\u001b[0;31mRuntimeError\u001b[0m                              Traceback (most recent call last)",
      "\u001b[0;32m<ipython-input-4-f83ff2b190f0>\u001b[0m in \u001b[0;36m<module>\u001b[0;34m()\u001b[0m\n\u001b[1;32m     14\u001b[0m \u001b[0mhop_s\u001b[0m \u001b[0;34m=\u001b[0m \u001b[0;36m256\u001b[0m \u001b[0;34m//\u001b[0m \u001b[0mdownsample\u001b[0m \u001b[0;31m# hop size\u001b[0m\u001b[0;34m\u001b[0m\u001b[0m\n\u001b[1;32m     15\u001b[0m \u001b[0;34m\u001b[0m\u001b[0m\n\u001b[0;32m---> 16\u001b[0;31m \u001b[0ms\u001b[0m \u001b[0;34m=\u001b[0m \u001b[0msource\u001b[0m\u001b[0;34m(\u001b[0m\u001b[0mfilename\u001b[0m\u001b[0;34m,\u001b[0m \u001b[0msamplerate\u001b[0m\u001b[0;34m,\u001b[0m \u001b[0mhop_s\u001b[0m\u001b[0;34m)\u001b[0m\u001b[0;34m\u001b[0m\u001b[0m\n\u001b[0m\u001b[1;32m     17\u001b[0m \u001b[0msamplerate\u001b[0m \u001b[0;34m=\u001b[0m \u001b[0ms\u001b[0m\u001b[0;34m.\u001b[0m\u001b[0msamplerate\u001b[0m\u001b[0;34m\u001b[0m\u001b[0m\n\u001b[1;32m     18\u001b[0m \u001b[0;34m\u001b[0m\u001b[0m\n",
      "\u001b[0;31mRuntimeError\u001b[0m: AUBIO ERROR: source_wavread: Failed opening output.wav (not encoded with PCM)"
     ]
    }
   ],
   "source": [
    "\n",
    "\n",
    "if len(sys.argv) < 3:\n",
    "    print(\"Usage: %s <filename> <output> [samplerate]\" % sys.argv[0])\n",
    "    sys.exit(1)\n",
    "\n",
    "filename = 'output.wav'\n",
    "midioutput = 'output_2.midi'\n",
    "\n",
    "downsample = 1\n",
    "samplerate = 44100 // downsample\n",
    "\n",
    "win_s = 512 // downsample # fft size\n",
    "hop_s = 256 // downsample # hop size\n",
    "\n",
    "s = source(filename, samplerate, hop_s)\n",
    "samplerate = s.samplerate\n",
    "\n",
    "tolerance = 0.8\n",
    "\n",
    "notes_o = notes(\"default\", win_s, hop_s, samplerate)\n",
    "\n",
    "print(\"%8s\" % \"time\",\"[ start\",\"vel\",\"last ]\")\n",
    "\n",
    "# create a midi file\n",
    "mid = MidiFile()\n",
    "track = MidiTrack()\n",
    "mid.tracks.append(track)\n",
    "\n",
    "ticks_per_beat = mid.ticks_per_beat # default: 480\n",
    "bpm = 120 # default midi tempo\n",
    "\n",
    "tempo = bpm2tempo(bpm)\n",
    "track.append(MetaMessage('set_tempo', tempo=tempo))\n",
    "track.append(MetaMessage('time_signature', numerator=4, denominator=4))\n",
    "\n",
    "def frames2tick(frames, samplerate=samplerate):\n",
    "    sec = frames / float(samplerate)\n",
    "    return int(second2tick(sec, ticks_per_beat, tempo))\n",
    "\n",
    "last_time = 0\n",
    "\n",
    "# total number of frames read\n",
    "total_frames = 0\n",
    "while True:\n",
    "    samples, read = s()\n",
    "    new_note = notes_o(samples)\n",
    "    if (new_note[0] != 0):\n",
    "        note_str = ' '.join([\"%.2f\" % i for i in new_note])\n",
    "        print(\"%.6f\" % (total_frames/float(samplerate)), new_note)\n",
    "        delta = frames2tick(total_frames) - last_time\n",
    "        if new_note[2] > 0:\n",
    "            track.append(Message('note_off', note=int(new_note[2]),\n",
    "                velocity=127, time=0)\n",
    "                )\n",
    "        track.append(Message('note_on',\n",
    "            note=int(new_note[0]),\n",
    "            velocity=int(new_note[1]),\n",
    "            time=delta)\n",
    "            )\n",
    "        last_time = frames2tick(total_frames)\n",
    "    total_frames += read\n",
    "    if read < hop_s: break\n",
    "\n",
    "mid.save(midioutput)"
   ]
  },
  {
   "cell_type": "code",
   "execution_count": null,
   "metadata": {},
   "outputs": [],
   "source": []
  },
  {
   "cell_type": "code",
   "execution_count": null,
   "metadata": {},
   "outputs": [],
   "source": []
  }
 ],
 "metadata": {
  "kernelspec": {
   "display_name": "Python 3",
   "language": "python",
   "name": "python3"
  },
  "language_info": {
   "codemirror_mode": {
    "name": "ipython",
    "version": 3
   },
   "file_extension": ".py",
   "mimetype": "text/x-python",
   "name": "python",
   "nbconvert_exporter": "python",
   "pygments_lexer": "ipython3",
   "version": "3.6.6"
  }
 },
 "nbformat": 4,
 "nbformat_minor": 2
}
